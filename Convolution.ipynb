{
  "nbformat": 4,
  "nbformat_minor": 0,
  "metadata": {
    "colab": {
      "name": "Convolution.ipynb",
      "version": "0.3.2",
      "provenance": [],
      "collapsed_sections": [],
      "include_colab_link": true
    },
    "kernelspec": {
      "name": "python3",
      "display_name": "Python 3"
    }
  },
  "cells": [
    {
      "cell_type": "markdown",
      "metadata": {
        "id": "view-in-github",
        "colab_type": "text"
      },
      "source": [
        "<a href=\"https://colab.research.google.com/github/Yumlembam/Basic-CNN/blob/master/Convolution.ipynb\" target=\"_parent\"><img src=\"https://colab.research.google.com/assets/colab-badge.svg\" alt=\"Open In Colab\"/></a>"
      ]
    },
    {
      "metadata": {
        "id": "W7xfpyj4EWmy",
        "colab_type": "code",
        "colab": {}
      },
      "cell_type": "code",
      "source": [
        "import numpy as np\n",
        "import h5py\n",
        "import matplotlib.pyplot as plt\n",
        "\n",
        "%matplotlib inline\n",
        "plt.rcParams['figure.figsize'] = (5.0, 4.0) # set default size of plots\n",
        "plt.rcParams['image.interpolation'] = 'nearest'\n",
        "plt.rcParams['image.cmap'] = 'gray'\n",
        "%load_ext autoreload\n",
        "%autoreload 2\n",
        "\n",
        "np.random.seed(1)"
      ],
      "execution_count": 0,
      "outputs": []
    },
    {
      "metadata": {
        "id": "tO7NYosYEisB",
        "colab_type": "code",
        "outputId": "4c1f5e67-09a4-4584-f80f-ad46428e2a81",
        "colab": {
          "base_uri": "https://localhost:8080/",
          "height": 363
        }
      },
      "cell_type": "code",
      "source": [
        "np.random.seed(1)\n",
        "Single_channel_slice = np.random.randn(3,4) # single channel matrix\n",
        "Single_channel_W = np.random.randn(2,2)\n",
        "Single_channel_b = np.random.randn(1,1)\n",
        "print(\"Single channel slice\", Single_channel_slice)\n",
        "print(\"Single Channel slice\",Single_channel_W)\n",
        "print(\"bias of single channel\",Single_channel_b) # Bias is not use here\n",
        "\n",
        "plt.imshow(Single_channel_slice, interpolation='nearest')\n",
        "plt.show()"
      ],
      "execution_count": 0,
      "outputs": [
        {
          "output_type": "stream",
          "text": [
            "Single channel slice [[ 1.62434536 -0.61175641 -0.52817175 -1.07296862]\n",
            " [ 0.86540763 -2.3015387   1.74481176 -0.7612069 ]\n",
            " [ 0.3190391  -0.24937038  1.46210794 -2.06014071]]\n",
            "Single Channel slice [[-0.3224172  -0.38405435]\n",
            " [ 1.13376944 -1.09989127]]\n",
            "bias of single channel [[-0.17242821]]\n"
          ],
          "name": "stdout"
        },
        {
          "output_type": "display_data",
          "data": {
            "image/png": "[encoded data removed]",
            "text/plain": [
              "<Figure size 360x288 with 1 Axes>"
            ]
          },
          "metadata": {
            "tags": []
          }
        }
      ]
    },
    {
      "metadata": {
        "id": "CnH5BHVZW91G",
        "colab_type": "text"
      },
      "cell_type": "markdown",
      "source": [
        "##Single Channel Convolution"
      ]
    },
    {
      "metadata": {
        "id": "mdB8qlJHEtzN",
        "colab_type": "text"
      },
      "cell_type": "markdown",
      "source": [
        "Convolution operation **S(i,j) = (I*k)(i,j)=$\\sum_{m=o}^k$$\\sum_{n=0}^q$I(i+m,j+n)K(m,n)**"
      ]
    },
    {
      "metadata": {
        "id": "JTyIhtpwJB7I",
        "colab_type": "code",
        "outputId": "6d30b405-d301-4b02-b0da-17c75dd6b671",
        "colab": {
          "base_uri": "https://localhost:8080/",
          "height": 306
        }
      },
      "cell_type": "code",
      "source": [
        "Z = np.zeros((2,3))\n",
        "print(Z)\n",
        "for i in range(0,2): # number of down sliding\n",
        "  for j in range (0,3): # number of side sliding\n",
        "    for m in range (0,2): # height of the kerel\n",
        "      for n in range(0,2): # width of the kernel\n",
        "        Z[i,j] = Z[i,j] + Single_channel_slice[i+m,j+n]*Single_channel_W[m,n]\n",
        "        \n",
        "print(\"Result of convolution\",Z)\n",
        "\n",
        "plt.imshow(Z, interpolation='nearest')\n",
        "plt.show()\n",
        "      "
      ],
      "execution_count": 0,
      "outputs": [
        {
          "output_type": "stream",
          "text": [
            "[[0. 0. 0.]\n",
            " [0. 0. 0.]]\n",
            "Result of convolution [[ 3.22384586 -4.12843001  3.39782902]\n",
            " [ 1.24089073 -1.81893515  3.65341157]]\n"
          ],
          "name": "stdout"
        },
        {
          "output_type": "display_data",
          "data": {
            "image/png": "[encoded data removed]",
            "text/plain": [
              "<Figure size 360x288 with 1 Axes>"
            ]
          },
          "metadata": {
            "tags": []
          }
        }
      ]
    },
    {
      "metadata": {
        "id": "9YpD1YA-XJMy",
        "colab_type": "text"
      },
      "cell_type": "markdown",
      "source": [
        "##Multi Channel Convolution"
      ]
    },
    {
      "metadata": {
        "id": "5KUwSBvx0Dq3",
        "colab_type": "text"
      },
      "cell_type": "markdown",
      "source": [
        "Software implementation usually works with 4-D tensors,with fourth axis indexing different examples in the batch\n",
        "\n",
        "Assume we have a 4-D kernel tensor K with element Ki,j,k,l giving the connection\n",
        "strength between a unit in channel i of the output and a unit in channel j of the\n",
        "input, with an offset of k rows and l columns between the output unit and the\n",
        "input unit. Assume our input consists of observed data V with element Vi,j,k giving\n",
        "the value of the input unit within channel i at row j and column k . Assume our\n",
        "output consists of Z with the same format as V. If Z is produced by convolving K\n",
        "across V without flipping K, then\n",
        "\n",
        "**$Z_{i},_{j},_{k}=\\sum_{l,m,n} V_{l},_{j+m-1},_{k+n-1}K_{i},_{l},_{m},_{n}$**\n",
        "\n",
        "\n",
        "\n",
        "In linear algebra notation, we index into\n",
        "arrays using a 1 for the first entry. This necessitates the −1 in the above formula. But in programming language like c we can just remove it.\n",
        "\n",
        "**$Z_{i},_{j},_{k}=\\sum_{l,m,n} V_{l},_{j+m},_{k+n}K_{i},_{l},_{m},_{n}$**"
      ]
    },
    {
      "metadata": {
        "id": "zTcEv57QSZuq",
        "colab_type": "code",
        "outputId": "f6309d17-b9de-4e10-8e82-5c36888c6935",
        "colab": {
          "base_uri": "https://localhost:8080/",
          "height": 626
        }
      },
      "cell_type": "code",
      "source": [
        "np.random.seed(1)\n",
        "Multi_channel_slice = np.random.randn(3,3,4)\n",
        "Multi_channel_kernel = np.random.randn(1,3,2,2) # only one kernel in real convolution we need multiple kernel\n",
        "print(\"Multi Channel Slice\",Multi_channel_slice)\n",
        "print(\"Multi Channel Kernel\",Multi_channel_kernel)\n",
        "\n",
        "plt.imshow(Multi_channel_slice,interpolation='nearest')\n",
        "plt.show()\n",
        "\n",
        "print(\"Debugging\",Multi_channel_kernel[0,0,0,0])"
      ],
      "execution_count": 0,
      "outputs": [
        {
          "output_type": "stream",
          "text": [
            "Clipping input data to the valid range for imshow with RGB data ([0..1] for floats or [0..255] for integers).\n"
          ],
          "name": "stderr"
        },
        {
          "output_type": "stream",
          "text": [
            "Multi Channel Slice [[[ 1.62434536 -0.61175641 -0.52817175 -1.07296862]\n",
            "  [ 0.86540763 -2.3015387   1.74481176 -0.7612069 ]\n",
            "  [ 0.3190391  -0.24937038  1.46210794 -2.06014071]]\n",
            "\n",
            " [[-0.3224172  -0.38405435  1.13376944 -1.09989127]\n",
            "  [-0.17242821 -0.87785842  0.04221375  0.58281521]\n",
            "  [-1.10061918  1.14472371  0.90159072  0.50249434]]\n",
            "\n",
            " [[ 0.90085595 -0.68372786 -0.12289023 -0.93576943]\n",
            "  [-0.26788808  0.53035547 -0.69166075 -0.39675353]\n",
            "  [-0.6871727  -0.84520564 -0.67124613 -0.0126646 ]]]\n",
            "Multi Channel Kernel [[[[-1.11731035  0.2344157 ]\n",
            "   [ 1.65980218  0.74204416]]\n",
            "\n",
            "  [[-0.19183555 -0.88762896]\n",
            "   [-0.74715829  1.6924546 ]]\n",
            "\n",
            "  [[ 0.05080775 -0.63699565]\n",
            "   [ 0.19091548  2.10025514]]]]\n"
          ],
          "name": "stdout"
        },
        {
          "output_type": "display_data",
          "data": {
            "image/png": "[encoded data removed]",
            "text/plain": [
              "<Figure size 360x288 with 1 Axes>"
            ]
          },
          "metadata": {
            "tags": []
          }
        },
        {
          "output_type": "stream",
          "text": [
            "Debugging -1.1173103486352778\n"
          ],
          "name": "stdout"
        }
      ]
    },
    {
      "metadata": {
        "id": "cF4kCSuF7_fL",
        "colab_type": "code",
        "outputId": "f9a4dadb-52a3-4602-c209-e779cd754f75",
        "colab": {
          "base_uri": "https://localhost:8080/",
          "height": 85
        }
      },
      "cell_type": "code",
      "source": [
        "result_multichannel = np.zeros((1,2,3))\n",
        "print(result_multichannel)\n",
        "for i in range (0,1): # number of filter\n",
        "  for j in range (0,2): # number of down sliding\n",
        "    for k in range (0,3): # number of side sliding\n",
        "      for l in range (0,3): #number of channel in both input and kernel\n",
        "        for m in range(0,2):# kernel dimension\n",
        "          for n in range(0,2):\n",
        "            result_multichannel[i,j,k] = result_multichannel[i,j,k] + Multi_channel_slice[l,j+m,k+n]*Multi_channel_kernel[i,l,m,n]\n",
        "\n",
        "print(result_multichannel)\n",
        "      \n",
        "    "
      ],
      "execution_count": 0,
      "outputs": [
        {
          "output_type": "stream",
          "text": [
            "[[[0. 0. 0.]\n",
            "  [0. 0. 0.]]]\n",
            "[[[-1.63985663 -3.47887792  4.0079552 ]\n",
            "  [ 0.15228802  3.34951337 -1.51560605]]]\n"
          ],
          "name": "stdout"
        }
      ]
    },
    {
      "metadata": {
        "id": "2r8wDLGmZFhC",
        "colab_type": "code",
        "colab": {}
      },
      "cell_type": "code",
      "source": [
        "# GRADED FUNCTION: zero_pad\n",
        "\n",
        "def zero_pad_try(X, pad):\n",
        "    \"\"\"\n",
        "    Pad with zeros all images of the dataset X. The padding is applied to the height and width of an image, \n",
        "    as illustrated in Figure 1.\n",
        "    \n",
        "    Argument:\n",
        "    X -- python numpy array of shape (m, n_H, n_W, n_C) representing a batch of m images\n",
        "    pad -- integer, amount of padding around each image on vertical and horizontal dimensions\n",
        "    \n",
        "    Returns:\n",
        "    X_pad -- padded image of shape (m, n_H + 2*pad, n_W + 2*pad, n_C)\n",
        "    \"\"\"\n",
        "    \n",
        "    ### START CODE HERE ### (≈ 1 line)\n",
        "    X_pad = np.pad(X, ((0, 0), (1, 1), (0, 0)), 'constant', constant_values=0)\n",
        "    \n",
        "    ### END CODE HERE ###\n",
        "    \n",
        "    return X_pad"
      ],
      "execution_count": 0,
      "outputs": []
    },
    {
      "metadata": {
        "id": "Xc6RQekejzCu",
        "colab_type": "code",
        "outputId": "9deffbce-d639-4ecb-f5b0-27b910bea831",
        "colab": {
          "base_uri": "https://localhost:8080/",
          "height": 306
        }
      },
      "cell_type": "code",
      "source": [
        "Zero_padded_multi_slice = zero_pad_try(Multi_channel_slice,2)\n",
        "print(Zero_padded_multi_slice)"
      ],
      "execution_count": 0,
      "outputs": [
        {
          "output_type": "stream",
          "text": [
            "[[[ 0.          0.          0.          0.        ]\n",
            "  [ 1.62434536 -0.61175641 -0.52817175 -1.07296862]\n",
            "  [ 0.86540763 -2.3015387   1.74481176 -0.7612069 ]\n",
            "  [ 0.3190391  -0.24937038  1.46210794 -2.06014071]\n",
            "  [ 0.          0.          0.          0.        ]]\n",
            "\n",
            " [[ 0.          0.          0.          0.        ]\n",
            "  [-0.3224172  -0.38405435  1.13376944 -1.09989127]\n",
            "  [-0.17242821 -0.87785842  0.04221375  0.58281521]\n",
            "  [-1.10061918  1.14472371  0.90159072  0.50249434]\n",
            "  [ 0.          0.          0.          0.        ]]\n",
            "\n",
            " [[ 0.          0.          0.          0.        ]\n",
            "  [ 0.90085595 -0.68372786 -0.12289023 -0.93576943]\n",
            "  [-0.26788808  0.53035547 -0.69166075 -0.39675353]\n",
            "  [-0.6871727  -0.84520564 -0.67124613 -0.0126646 ]\n",
            "  [ 0.          0.          0.          0.        ]]]\n"
          ],
          "name": "stdout"
        }
      ]
    },
    {
      "metadata": {
        "id": "rZyRJ08Eor-Z",
        "colab_type": "code",
        "colab": {}
      },
      "cell_type": "code",
      "source": [
        "# GRADED FUNCTION: zero_pad\n",
        "\n",
        "def zero_pad(X_value, pad_value):\n",
        "    \"\"\"\n",
        "    Pad with zeros all images of the dataset X. The padding is applied to the height and width of an image, \n",
        "    as illustrated in Figure 1.\n",
        "    \n",
        "    Argument:\n",
        "    X -- python numpy array of shape (m, n_H, n_W, n_C) representing a batch of m images\n",
        "    pad -- integer, amount of padding around each image on vertical and horizontal dimensions\n",
        "    \n",
        "    Returns:\n",
        "    X_pad -- padded image of shape (m, n_H + 2*pad, n_W + 2*pad, n_C)\n",
        "    \"\"\"\n",
        "    \n",
        "    ### START CODE HERE ### (≈ 1 line)\n",
        "    X_pad_value = np.pad(X_value, ((0, 0), (pad_value, pad_value), (pad_value, pad_value), (0, 0)), 'constant', constant_values=0)\n",
        "    ### END CODE HERE ###\n",
        "    \n",
        "    return X_pad_value"
      ],
      "execution_count": 0,
      "outputs": []
    },
    {
      "metadata": {
        "id": "w8U_naOorLnv",
        "colab_type": "code",
        "outputId": "85cb124e-88f7-4fcf-d87f-7ee95e770203",
        "colab": {
          "base_uri": "https://localhost:8080/",
          "height": 411
        }
      },
      "cell_type": "code",
      "source": [
        "np.random.seed(1)\n",
        "x = np.random.randn(4, 3, 3, 2)\n",
        "x_pad = zero_pad(x, 2)\n",
        "print (\"x.shape =\", x.shape)\n",
        "print (\"x_pad.shape =\", x_pad.shape)\n",
        "print (\"x[1,1] =\", x[1,1])\n",
        "print (\"x_pad[1,1] =\", x_pad[0,1,])\n",
        "\n",
        "\n",
        "fig, axarr = plt.subplots(1, 2)\n",
        "axarr[0].set_title('x')\n",
        "axarr[0].imshow(x[0,:,:,0])\n",
        "axarr[1].set_title('x_pad')\n",
        "axarr[1].imshow(x_pad[0,:,:,0])"
      ],
      "execution_count": 0,
      "outputs": [
        {
          "output_type": "stream",
          "text": [
            "x.shape = (4, 3, 3, 2)\n",
            "x_pad.shape = (4, 7, 7, 2)\n",
            "x[1,1] = [[ 0.90085595 -0.68372786]\n",
            " [-0.12289023 -0.93576943]\n",
            " [-0.26788808  0.53035547]]\n",
            "x_pad[1,1] = [[0. 0.]\n",
            " [0. 0.]\n",
            " [0. 0.]\n",
            " [0. 0.]\n",
            " [0. 0.]\n",
            " [0. 0.]\n",
            " [0. 0.]]\n"
          ],
          "name": "stdout"
        },
        {
          "output_type": "execute_result",
          "data": {
            "text/plain": [
              "<matplotlib.image.AxesImage at 0x7facbac56c88>"
            ]
          },
          "metadata": {
            "tags": []
          },
          "execution_count": 9
        },
        {
          "output_type": "display_data",
          "data": {
            "image/png": "[encoded data removed]",
            "text/plain": [
              "<Figure size 360x288 with 2 Axes>"
            ]
          },
          "metadata": {
            "tags": []
          }
        }
      ]
    },
    {
      "metadata": {
        "id": "GDdH9QqHMd2o",
        "colab_type": "code",
        "colab": {}
      },
      "cell_type": "code",
      "source": [
        "# GRADED FUNCTION: conv_single_step\n",
        "\n",
        "def conv_single_step(a_slice_prev, W, b):\n",
        "    \"\"\"\n",
        "    Apply one filter defined by parameters W on a single slice (a_slice_prev) of the output activation \n",
        "    of the previous layer.\n",
        "    \n",
        "    Arguments:\n",
        "    a_slice_prev -- slice of input data of shape (f, f, n_C_prev)\n",
        "    W -- Weight parameters contained in a window - matrix of shape (f, f, n_C_prev)\n",
        "    b -- Bias parameters contained in a window - matrix of shape (1, 1, 1)\n",
        "    \n",
        "    Returns:\n",
        "    Z -- a scalar value, result of convolving the sliding window (W, b) on a slice x of the input data\n",
        "    \"\"\"\n",
        "\n",
        "    ### START CODE HERE ### (≈ 2 lines of code)\n",
        "    # Element-wise product between a_slice and W. Do not add the bias yet.\n",
        "    s = np.multiply(a_slice_prev, W)\n",
        "    # Sum over all entries of the volume s.\n",
        "    Z = np.sum(s)\n",
        "    # Add bias b to Z. Cast b to a float() so that Z results in a scalar value.\n",
        "    Z = Z + float(b)\n",
        "    ### END CODE HERE ###\n",
        "\n",
        "    return Z"
      ],
      "execution_count": 0,
      "outputs": []
    },
    {
      "metadata": {
        "id": "s2bNBociMyfe",
        "colab_type": "code",
        "outputId": "2dd76bd9-fefb-4061-983d-a074c6480ac9",
        "colab": {
          "base_uri": "https://localhost:8080/",
          "height": 34
        }
      },
      "cell_type": "code",
      "source": [
        "np.random.seed(1)\n",
        "a_slice_prev = np.random.randn(4, 4, 3)\n",
        "W = np.random.randn(4, 4, 3)\n",
        "b = np.random.randn(1, 1, 1)\n",
        "\n",
        "Z = conv_single_step(a_slice_prev, W, b)\n",
        "print(\"Z =\", Z)"
      ],
      "execution_count": 0,
      "outputs": [
        {
          "output_type": "stream",
          "text": [
            "Z = -6.999089450680221\n"
          ],
          "name": "stdout"
        }
      ]
    },
    {
      "metadata": {
        "id": "nHeCaidAT872",
        "colab_type": "code",
        "colab": {}
      },
      "cell_type": "code",
      "source": [
        "# GRADED FUNCTION: conv_forward\n",
        "\n",
        "def conv_forward(A_prev, W, b, hparameters):\n",
        "    \"\"\"\n",
        "    Implements the forward propagation for a convolution function\n",
        "    \n",
        "    Arguments:\n",
        "    A_prev -- output activations of the previous layer, numpy array of shape (m, n_H_prev, n_W_prev, n_C_prev)\n",
        "    W -- Weights, numpy array of shape (f, f, n_C_prev, n_C)\n",
        "    b -- Biases, numpy array of shape (1, 1, 1, n_C)\n",
        "    hparameters -- python dictionary containing \"stride\" and \"pad\"\n",
        "        \n",
        "    Returns:\n",
        "    Z -- conv output, numpy array of shape (m, n_H, n_W, n_C)\n",
        "    cache -- cache of values needed for the conv_backward() function\n",
        "    \"\"\"\n",
        "    \n",
        "    ### START CODE HERE ###\n",
        "    # Retrieve dimensions from A_prev's shape (≈1 line)  \n",
        "    (m, n_H_prev, n_W_prev, n_C_prev) = A_prev.shape\n",
        "    \n",
        "    # Retrieve dimensions from W's shape (≈1 line)\n",
        "    (f, f, n_C_prev, n_C) = W.shape\n",
        "    \n",
        "    # Retrieve information from \"hparameters\" (≈2 lines)\n",
        "    stride = hparameters['stride']\n",
        "    pad = hparameters['pad']\n",
        "    \n",
        "    # Compute the dimensions of the CONV output volume using the formula given above. Hint: use int() to floor. (≈2 lines)\n",
        "    n_H = int((n_H_prev - f + 2 * pad) / stride) + 1\n",
        "    n_W = int((n_W_prev - f + 2 * pad) / stride) + 1\n",
        "    \n",
        "    # Initialize the output volume Z with zeros. (≈1 line)\n",
        "    Z = np.zeros((m, n_H, n_W, n_C))\n",
        "    \n",
        "    # Create A_prev_pad by padding A_prev\n",
        "    A_prev_pad = zero_pad(A_prev, pad)\n",
        "    \n",
        "    for i in range(m):                               # loop over the batch of training examples\n",
        "        a_prev_pad = A_prev_pad[i]                               # Select ith training example's padded activation\n",
        "        for h in range(n_H):                           # loop over vertical axis of the output volume\n",
        "            for w in range(n_W):                       # loop over horizontal axis of the output volume\n",
        "                for c in range(n_C):                   # loop over channels (= #filters) of the output volume\n",
        "                    \n",
        "                    # Find the corners of the current \"slice\" (≈4 lines)\n",
        "                    vert_start = h * stride\n",
        "                    vert_end = vert_start + f\n",
        "                    horiz_start = w * stride\n",
        "                    horiz_end = horiz_start + f\n",
        "                    \n",
        "                    # Use the corners to define the (3D) slice of a_prev_pad (See Hint above the cell). (≈1 line)\n",
        "                    a_slice_prev = a_prev_pad[vert_start:vert_end, horiz_start:horiz_end, :]\n",
        "                    \n",
        "                    # Convolve the (3D) slice with the correct filter W and bias b, to get back one output neuron. (≈1 line)\n",
        "                    Z[i, h, w, c] = conv_single_step(a_slice_prev, W[...,c], b[...,c])\n",
        "                                        \n",
        "    ### END CODE HERE ###\n",
        "    \n",
        "    # Making sure your output shape is correct\n",
        "    assert(Z.shape == (m, n_H, n_W, n_C))\n",
        "    print(\"The shape of Z is\",Z.shape)\n",
        "    \n",
        "    # Save information in \"cache\" for the backprop\n",
        "    cache = (A_prev, W, b, hparameters)\n",
        "    #print(\"printing cache\")\n",
        "    #print(cache)\n",
        "    \n",
        "    return Z, cache"
      ],
      "execution_count": 0,
      "outputs": []
    },
    {
      "metadata": {
        "id": "iohXdPM0TWxf",
        "colab_type": "code",
        "outputId": "56f11cc2-0137-45e9-b9ab-59902359f6b8",
        "colab": {
          "base_uri": "https://localhost:8080/",
          "height": 3893
        }
      },
      "cell_type": "code",
      "source": [
        "np.random.seed(1)\n",
        "A_prev = np.random.randn(10,4,4,3)\n",
        "W = np.random.randn(2,2,3,8)\n",
        "b = np.random.randn(1,1,1,8)\n",
        "hparameters = {\"pad\" : 2,\n",
        "               \"stride\": 2}\n",
        "Z, cache_conv = conv_forward(A_prev, W, b, hparameters)\n",
        "print(\"The value of Z is\",Z)\n",
        "print(\"Z's mean =\", np.mean(Z))\n",
        "print(\"Z[3,2,1] =\", Z[3,2,1])\n",
        "print(\"cache_conv[0][1][2][3] =\", cache_conv[0][1][2][3])"
      ],
      "execution_count": 0,
      "outputs": [
        {
          "output_type": "stream",
          "text": [
            "The shape of Z is (10, 4, 4, 8)\n",
            "The value of Z is [[[[  0.37245685  -0.1484898   -0.1834002  ...  -0.6294416\n",
            "     -1.1134361   -0.06741002]\n",
            "   [  0.37245685  -0.1484898   -0.1834002  ...  -0.6294416\n",
            "     -1.1134361   -0.06741002]\n",
            "   [  0.37245685  -0.1484898   -0.1834002  ...  -0.6294416\n",
            "     -1.1134361   -0.06741002]\n",
            "   [  0.37245685  -0.1484898   -0.1834002  ...  -0.6294416\n",
            "     -1.1134361   -0.06741002]]\n",
            "\n",
            "  [[  0.37245685  -0.1484898   -0.1834002  ...  -0.6294416\n",
            "     -1.1134361   -0.06741002]\n",
            "   [ -5.62626365  -0.85327034   0.30276347 ...  -6.80726038\n",
            "     -1.23309753   2.64990283]\n",
            "   [  2.08987783  -2.79690946  -0.72067882 ...   6.32999645\n",
            "     -1.99398264   9.27399969]\n",
            "   [  0.37245685  -0.1484898   -0.1834002  ...  -0.6294416\n",
            "     -1.1134361   -0.06741002]]\n",
            "\n",
            "  [[  0.37245685  -0.1484898   -0.1834002  ...  -0.6294416\n",
            "     -1.1134361   -0.06741002]\n",
            "   [ -1.39647145  -6.02091128  -2.90853467 ...  -4.53265357\n",
            "     -1.03240479  -0.76496589]\n",
            "   [ -3.52376467   2.50067997  -3.70139219 ...   0.01735065\n",
            "     -3.80189413   1.17646803]\n",
            "   [  0.37245685  -0.1484898   -0.1834002  ...  -0.6294416\n",
            "     -1.1134361   -0.06741002]]\n",
            "\n",
            "  [[  0.37245685  -0.1484898   -0.1834002  ...  -0.6294416\n",
            "     -1.1134361   -0.06741002]\n",
            "   [  0.37245685  -0.1484898   -0.1834002  ...  -0.6294416\n",
            "     -1.1134361   -0.06741002]\n",
            "   [  0.37245685  -0.1484898   -0.1834002  ...  -0.6294416\n",
            "     -1.1134361   -0.06741002]\n",
            "   [  0.37245685  -0.1484898   -0.1834002  ...  -0.6294416\n",
            "     -1.1134361   -0.06741002]]]\n",
            "\n",
            "\n",
            " [[[  0.37245685  -0.1484898   -0.1834002  ...  -0.6294416\n",
            "     -1.1134361   -0.06741002]\n",
            "   [  0.37245685  -0.1484898   -0.1834002  ...  -0.6294416\n",
            "     -1.1134361   -0.06741002]\n",
            "   [  0.37245685  -0.1484898   -0.1834002  ...  -0.6294416\n",
            "     -1.1134361   -0.06741002]\n",
            "   [  0.37245685  -0.1484898   -0.1834002  ...  -0.6294416\n",
            "     -1.1134361   -0.06741002]]\n",
            "\n",
            "  [[  0.37245685  -0.1484898   -0.1834002  ...  -0.6294416\n",
            "     -1.1134361   -0.06741002]\n",
            "   [  0.08367282  -2.0808981   -4.16119517 ...  -1.78610875\n",
            "     -4.71325433  -0.89005663]\n",
            "   [ -2.64314518  -3.39898808  -4.28346842 ... -11.03958162\n",
            "     -3.06425905  -4.32330087]\n",
            "   [  0.37245685  -0.1484898   -0.1834002  ...  -0.6294416\n",
            "     -1.1134361   -0.06741002]]\n",
            "\n",
            "  [[  0.37245685  -0.1484898   -0.1834002  ...  -0.6294416\n",
            "     -1.1134361   -0.06741002]\n",
            "   [  3.80661854  -1.41601581   0.17491281 ...   3.06829308\n",
            "     -5.17017132  -0.06196656]\n",
            "   [  3.1743111    2.06819111   2.46003515 ...   1.76088464\n",
            "     -1.36238193  -0.18849899]\n",
            "   [  0.37245685  -0.1484898   -0.1834002  ...  -0.6294416\n",
            "     -1.1134361   -0.06741002]]\n",
            "\n",
            "  [[  0.37245685  -0.1484898   -0.1834002  ...  -0.6294416\n",
            "     -1.1134361   -0.06741002]\n",
            "   [  0.37245685  -0.1484898   -0.1834002  ...  -0.6294416\n",
            "     -1.1134361   -0.06741002]\n",
            "   [  0.37245685  -0.1484898   -0.1834002  ...  -0.6294416\n",
            "     -1.1134361   -0.06741002]\n",
            "   [  0.37245685  -0.1484898   -0.1834002  ...  -0.6294416\n",
            "     -1.1134361   -0.06741002]]]\n",
            "\n",
            "\n",
            " [[[  0.37245685  -0.1484898   -0.1834002  ...  -0.6294416\n",
            "     -1.1134361   -0.06741002]\n",
            "   [  0.37245685  -0.1484898   -0.1834002  ...  -0.6294416\n",
            "     -1.1134361   -0.06741002]\n",
            "   [  0.37245685  -0.1484898   -0.1834002  ...  -0.6294416\n",
            "     -1.1134361   -0.06741002]\n",
            "   [  0.37245685  -0.1484898   -0.1834002  ...  -0.6294416\n",
            "     -1.1134361   -0.06741002]]\n",
            "\n",
            "  [[  0.37245685  -0.1484898   -0.1834002  ...  -0.6294416\n",
            "     -1.1134361   -0.06741002]\n",
            "   [  6.57668301   2.8664037    1.62844774 ...   3.84360661\n",
            "      2.02458263   0.37037825]\n",
            "   [ -2.51266463   4.27674681   5.47592653 ...   3.60263557\n",
            "      2.63476208   0.20217395]\n",
            "   [  0.37245685  -0.1484898   -0.1834002  ...  -0.6294416\n",
            "     -1.1134361   -0.06741002]]\n",
            "\n",
            "  [[  0.37245685  -0.1484898   -0.1834002  ...  -0.6294416\n",
            "     -1.1134361   -0.06741002]\n",
            "   [  0.42803122  -2.91156919  -5.59192533 ...  -2.74759914\n",
            "      3.74298226  -3.1750521 ]\n",
            "   [  0.3496056    2.63006765   1.31273099 ...   5.53657922\n",
            "      2.38941362   3.56735666]\n",
            "   [  0.37245685  -0.1484898   -0.1834002  ...  -0.6294416\n",
            "     -1.1134361   -0.06741002]]\n",
            "\n",
            "  [[  0.37245685  -0.1484898   -0.1834002  ...  -0.6294416\n",
            "     -1.1134361   -0.06741002]\n",
            "   [  0.37245685  -0.1484898   -0.1834002  ...  -0.6294416\n",
            "     -1.1134361   -0.06741002]\n",
            "   [  0.37245685  -0.1484898   -0.1834002  ...  -0.6294416\n",
            "     -1.1134361   -0.06741002]\n",
            "   [  0.37245685  -0.1484898   -0.1834002  ...  -0.6294416\n",
            "     -1.1134361   -0.06741002]]]\n",
            "\n",
            "\n",
            " ...\n",
            "\n",
            "\n",
            " [[[  0.37245685  -0.1484898   -0.1834002  ...  -0.6294416\n",
            "     -1.1134361   -0.06741002]\n",
            "   [  0.37245685  -0.1484898   -0.1834002  ...  -0.6294416\n",
            "     -1.1134361   -0.06741002]\n",
            "   [  0.37245685  -0.1484898   -0.1834002  ...  -0.6294416\n",
            "     -1.1134361   -0.06741002]\n",
            "   [  0.37245685  -0.1484898   -0.1834002  ...  -0.6294416\n",
            "     -1.1134361   -0.06741002]]\n",
            "\n",
            "  [[  0.37245685  -0.1484898   -0.1834002  ...  -0.6294416\n",
            "     -1.1134361   -0.06741002]\n",
            "   [ -4.82442663   6.98656048   7.23031333 ...  -1.40808109\n",
            "      0.24871714  -5.01082128]\n",
            "   [ -0.6558226   -0.19061003  -0.40510025 ...  -4.32270779\n",
            "     -1.51474856  -2.10605794]\n",
            "   [  0.37245685  -0.1484898   -0.1834002  ...  -0.6294416\n",
            "     -1.1134361   -0.06741002]]\n",
            "\n",
            "  [[  0.37245685  -0.1484898   -0.1834002  ...  -0.6294416\n",
            "     -1.1134361   -0.06741002]\n",
            "   [  0.62108599   0.94141219   6.88848277 ...   6.2834709\n",
            "      0.65251537  -5.35154958]\n",
            "   [ -5.88214059  -3.23620939  -7.45265275 ... -10.73932285\n",
            "      1.5153822    3.05977144]\n",
            "   [  0.37245685  -0.1484898   -0.1834002  ...  -0.6294416\n",
            "     -1.1134361   -0.06741002]]\n",
            "\n",
            "  [[  0.37245685  -0.1484898   -0.1834002  ...  -0.6294416\n",
            "     -1.1134361   -0.06741002]\n",
            "   [  0.37245685  -0.1484898   -0.1834002  ...  -0.6294416\n",
            "     -1.1134361   -0.06741002]\n",
            "   [  0.37245685  -0.1484898   -0.1834002  ...  -0.6294416\n",
            "     -1.1134361   -0.06741002]\n",
            "   [  0.37245685  -0.1484898   -0.1834002  ...  -0.6294416\n",
            "     -1.1134361   -0.06741002]]]\n",
            "\n",
            "\n",
            " [[[  0.37245685  -0.1484898   -0.1834002  ...  -0.6294416\n",
            "     -1.1134361   -0.06741002]\n",
            "   [  0.37245685  -0.1484898   -0.1834002  ...  -0.6294416\n",
            "     -1.1134361   -0.06741002]\n",
            "   [  0.37245685  -0.1484898   -0.1834002  ...  -0.6294416\n",
            "     -1.1134361   -0.06741002]\n",
            "   [  0.37245685  -0.1484898   -0.1834002  ...  -0.6294416\n",
            "     -1.1134361   -0.06741002]]\n",
            "\n",
            "  [[  0.37245685  -0.1484898   -0.1834002  ...  -0.6294416\n",
            "     -1.1134361   -0.06741002]\n",
            "   [ -0.01559053  -4.89997616  -7.94783728 ...  -4.62848751\n",
            "     -4.71879296   2.82504083]\n",
            "   [  3.51312201   2.63687545  -3.71737794 ... -10.60561888\n",
            "     -7.11664106  -4.22282051]\n",
            "   [  0.37245685  -0.1484898   -0.1834002  ...  -0.6294416\n",
            "     -1.1134361   -0.06741002]]\n",
            "\n",
            "  [[  0.37245685  -0.1484898   -0.1834002  ...  -0.6294416\n",
            "     -1.1134361   -0.06741002]\n",
            "   [  3.99633307  -2.09374945  -0.50159351 ...   8.49748195\n",
            "      1.23102831   4.52254147]\n",
            "   [ -7.4569289    6.62314261   1.85070371 ...   2.15390642\n",
            "     -0.46165932   0.40872292]\n",
            "   [  0.37245685  -0.1484898   -0.1834002  ...  -0.6294416\n",
            "     -1.1134361   -0.06741002]]\n",
            "\n",
            "  [[  0.37245685  -0.1484898   -0.1834002  ...  -0.6294416\n",
            "     -1.1134361   -0.06741002]\n",
            "   [  0.37245685  -0.1484898   -0.1834002  ...  -0.6294416\n",
            "     -1.1134361   -0.06741002]\n",
            "   [  0.37245685  -0.1484898   -0.1834002  ...  -0.6294416\n",
            "     -1.1134361   -0.06741002]\n",
            "   [  0.37245685  -0.1484898   -0.1834002  ...  -0.6294416\n",
            "     -1.1134361   -0.06741002]]]\n",
            "\n",
            "\n",
            " [[[  0.37245685  -0.1484898   -0.1834002  ...  -0.6294416\n",
            "     -1.1134361   -0.06741002]\n",
            "   [  0.37245685  -0.1484898   -0.1834002  ...  -0.6294416\n",
            "     -1.1134361   -0.06741002]\n",
            "   [  0.37245685  -0.1484898   -0.1834002  ...  -0.6294416\n",
            "     -1.1134361   -0.06741002]\n",
            "   [  0.37245685  -0.1484898   -0.1834002  ...  -0.6294416\n",
            "     -1.1134361   -0.06741002]]\n",
            "\n",
            "  [[  0.37245685  -0.1484898   -0.1834002  ...  -0.6294416\n",
            "     -1.1134361   -0.06741002]\n",
            "   [  3.48293133  -5.12904196  -3.94459617 ...   4.08112577\n",
            "     -0.78145999   3.88336796]\n",
            "   [  5.46915059  -4.85239884  -2.18027586 ...  -0.11890473\n",
            "     -5.13429614  -3.02386617]\n",
            "   [  0.37245685  -0.1484898   -0.1834002  ...  -0.6294416\n",
            "     -1.1134361   -0.06741002]]\n",
            "\n",
            "  [[  0.37245685  -0.1484898   -0.1834002  ...  -0.6294416\n",
            "     -1.1134361   -0.06741002]\n",
            "   [ -5.40477325   2.7740254    2.0213699  ...   0.24223101\n",
            "     -4.46679098  -2.91579974]\n",
            "   [  7.85106555   1.63247963   1.48930852 ...   2.59150104\n",
            "      4.06848299   2.44036098]\n",
            "   [  0.37245685  -0.1484898   -0.1834002  ...  -0.6294416\n",
            "     -1.1134361   -0.06741002]]\n",
            "\n",
            "  [[  0.37245685  -0.1484898   -0.1834002  ...  -0.6294416\n",
            "     -1.1134361   -0.06741002]\n",
            "   [  0.37245685  -0.1484898   -0.1834002  ...  -0.6294416\n",
            "     -1.1134361   -0.06741002]\n",
            "   [  0.37245685  -0.1484898   -0.1834002  ...  -0.6294416\n",
            "     -1.1134361   -0.06741002]\n",
            "   [  0.37245685  -0.1484898   -0.1834002  ...  -0.6294416\n",
            "     -1.1134361   -0.06741002]]]]\n",
            "Z's mean = 0.048995203528855794\n",
            "Z[3,2,1] = [-0.61490741 -6.7439236  -2.55153897  1.75698377  3.56208902  0.53036437\n",
            "  5.18531798  8.75898442]\n",
            "cache_conv[0][1][2][3] = [-0.20075807  0.18656139  0.41005165]\n"
          ],
          "name": "stdout"
        }
      ]
    },
    {
      "metadata": {
        "id": "k94xJPpkMxqB",
        "colab_type": "code",
        "colab": {}
      },
      "cell_type": "code",
      "source": [
        "# GRADED FUNCTION: pool_forward\n",
        "\n",
        "def pool_forward(A_prev, hparameters, mode = \"max\"):\n",
        "    \"\"\"\n",
        "    Implements the forward pass of the pooling layer\n",
        "    \n",
        "    Arguments:\n",
        "    A_prev -- Input data, numpy array of shape (m, n_H_prev, n_W_prev, n_C_prev)\n",
        "    hparameters -- python dictionary containing \"f\" and \"stride\"\n",
        "    mode -- the pooling mode you would like to use, defined as a string (\"max\" or \"average\")\n",
        "    \n",
        "    Returns:\n",
        "    A -- output of the pool layer, a numpy array of shape (m, n_H, n_W, n_C)\n",
        "    cache -- cache used in the backward pass of the pooling layer, contains the input and hparameters \n",
        "    \"\"\"\n",
        "    \n",
        "    # Retrieve dimensions from the input shape\n",
        "    (m, n_H_prev, n_W_prev, n_C_prev) = A_prev.shape\n",
        "    \n",
        "    # Retrieve hyperparameters from \"hparameters\"\n",
        "    f = hparameters[\"f\"]\n",
        "    stride = hparameters[\"stride\"]\n",
        "    \n",
        "    # Define the dimensions of the output\n",
        "    n_H = int(1 + (n_H_prev - f) / stride)\n",
        "    n_W = int(1 + (n_W_prev - f) / stride)\n",
        "    n_C = n_C_prev\n",
        "    \n",
        "    # Initialize output matrix A\n",
        "    A = np.zeros((m, n_H, n_W, n_C))              \n",
        "    \n",
        "    ### START CODE HERE ###\n",
        "    for i in range(m):                         # loop over the training examples\n",
        "        for h in range(n_H):                     # loop on the vertical axis of the output volume\n",
        "            for w in range(n_W):                 # loop on the horizontal axis of the output volume\n",
        "                for c in range (n_C):            # loop over the channels of the output volume\n",
        "                    \n",
        "                    # Find the corners of the current \"slice\" (≈4 lines)\n",
        "                    vert_start = h * stride\n",
        "                    vert_end = vert_start + f\n",
        "                    horiz_start = w * stride\n",
        "                    horiz_end = horiz_start + f\n",
        "                    \n",
        "                    # Use the corners to define the current slice on the ith training example of A_prev, channel c. (≈1 line)\n",
        "                    a_prev_slice = A_prev[i, vert_start:vert_end, horiz_start:horiz_end, c]\n",
        "                    \n",
        "                    # Compute the pooling operation on the slice. Use an if statment to differentiate the modes. Use np.max/np.mean.\n",
        "                    if mode == \"max\":\n",
        "                        A[i, h, w, c] = np.max(a_prev_slice)\n",
        "                    elif mode == \"average\":\n",
        "                        A[i, h, w, c] = np.mean(a_prev_slice)\n",
        "    \n",
        "    ### END CODE HERE ###\n",
        "    \n",
        "    # Store the input and hparameters in \"cache\" for pool_backward()\n",
        "    cache = (A_prev, hparameters)\n",
        "    \n",
        "    # Making sure your output shape is correct\n",
        "    assert(A.shape == (m, n_H, n_W, n_C))\n",
        "    \n",
        "    return A, cache\n",
        "            \n",
        "        \n",
        "    "
      ],
      "execution_count": 0,
      "outputs": []
    },
    {
      "metadata": {
        "id": "-5znqMqNL08m",
        "colab_type": "code",
        "outputId": "eca52ca0-604a-4453-86b2-d8e04c95aaf6",
        "colab": {
          "base_uri": "https://localhost:8080/",
          "height": 306
        }
      },
      "cell_type": "code",
      "source": [
        "np.random.seed(1)\n",
        "A_prev = np.random.randn(2,4,4,3)\n",
        "hparameters = {\"stride\":2, \"f\":2}\n",
        "A,cache = pool_forward(A_prev,hparameters)\n",
        "print(\"mode = max\")\n",
        "print(\"A =\", A.shape)\n",
        "print(A)\n",
        "print()\n",
        "A, cache = pool_forward(A_prev, hparameters, mode = \"average\")\n",
        "print(\"mode = average\")\n",
        "print(\"A =\", A.shape)"
      ],
      "execution_count": 0,
      "outputs": [
        {
          "output_type": "stream",
          "text": [
            "mode = max\n",
            "A = (2, 2, 2, 3)\n",
            "[[[[ 1.62434536  0.86540763  1.13376944]\n",
            "   [ 1.74481176  1.46210794  0.50249434]]\n",
            "\n",
            "  [[ 0.90085595  0.2344157   1.65980218]\n",
            "   [-0.63699565  1.6924546   2.10025514]]]\n",
            "\n",
            "\n",
            " [[[ 0.12015895  1.25286816  0.51292982]\n",
            "   [ 1.13162939  1.51981682  2.18557541]]\n",
            "\n",
            "  [[ 0.37756379  0.87616892  1.12948391]\n",
            "   [ 1.19891788  0.76201118  0.41005165]]]]\n",
            "\n",
            "mode = average\n",
            "A = (2, 2, 2, 3)\n"
          ],
          "name": "stdout"
        }
      ]
    },
    {
      "metadata": {
        "id": "5NA3iMbchDtZ",
        "colab_type": "code",
        "colab": {}
      },
      "cell_type": "code",
      "source": [
        "def conv_backward(dZ, cache):\n",
        "    \"\"\"\n",
        "    Implement the backward propagation for a convolution function\n",
        "    \n",
        "    Arguments:\n",
        "    dZ -- gradient of the cost with respect to the output of the conv layer (Z), numpy array of shape (m, n_H, n_W, n_C)\n",
        "    cache -- cache of values needed for the conv_backward(), output of conv_forward()\n",
        "    \n",
        "    Returns:\n",
        "    dA_prev -- gradient of the cost with respect to the input of the conv layer (A_prev),\n",
        "               numpy array of shape (m, n_H_prev, n_W_prev, n_C_prev)\n",
        "    dW -- gradient of the cost with respect to the weights of the conv layer (W)\n",
        "          numpy array of shape (f, f, n_C_prev, n_C)\n",
        "    db -- gradient of the cost with respect to the biases of the conv layer (b)\n",
        "          numpy array of shape (1, 1, 1, n_C)\n",
        "    \"\"\"\n",
        "    \n",
        "    ### START CODE HERE ###\n",
        "    # Retrieve information from \"cache\"\n",
        "    (A_prev, W, b, hparameters) = cache\n",
        "    \n",
        "    # Retrieve dimensions from A_prev's shape\n",
        "    (m, n_H_prev, n_W_prev, n_C_prev) = A_prev.shape\n",
        "    \n",
        "    # Retrieve dimensions from W's shape\n",
        "    (f, f, n_C_prev, n_C) = W.shape\n",
        "    \n",
        "    # Retrieve information from \"hparameters\"\n",
        "    stride = hparameters[\"stride\"]\n",
        "    pad = hparameters[\"pad\"]\n",
        "    \n",
        "    # Retrieve dimensions from dZ's shape\n",
        "    (m, n_H, n_W, n_C) = dZ.shape\n",
        "    \n",
        "    # Initialize dA_prev, dW, db with the correct shapes\n",
        "    dA_prev = np.zeros((m, n_H_prev, n_W_prev, n_C_prev))                           \n",
        "    dW = np.zeros((f, f, n_C_prev, n_C))\n",
        "    db = np.zeros((1, 1, 1, n_C))\n",
        "\n",
        "    # Pad A_prev and dA_prev\n",
        "    A_prev_pad = zero_pad(A_prev, pad)\n",
        "    dA_prev_pad = zero_pad(dA_prev, pad)\n",
        "    \n",
        "    for i in range(m):                       # loop over the training examples\n",
        "        \n",
        "        # select ith training example from A_prev_pad and dA_prev_pad\n",
        "        a_prev_pad = A_prev_pad[i]\n",
        "        da_prev_pad = dA_prev_pad[i]\n",
        "        \n",
        "        for h in range(n_H):                   # loop over vertical axis of the output volume\n",
        "            for w in range(n_W):               # loop over horizontal axis of the output volume\n",
        "                for c in range(n_C):           # loop over the channels of the output volume\n",
        "                    \n",
        "                    # Find the corners of the current \"slice\"\n",
        "                    vert_start = h\n",
        "                    vert_end = vert_start + f\n",
        "                    horiz_start = w\n",
        "                    horiz_end = horiz_start + f\n",
        "                    \n",
        "                    # Use the corners to define the slice from a_prev_pad\n",
        "                    a_slice = a_prev_pad[vert_start:vert_end, horiz_start:horiz_end, :]\n",
        "\n",
        "                    # Update gradients for the window and the filter's parameters using the code formulas given above\n",
        "                    da_prev_pad[vert_start:vert_end, horiz_start:horiz_end, :] += W[:,:,:,c] * dZ[i, h, w, c]\n",
        "                    dW[:,:,:,c] += a_slice * dZ[i, h, w, c]\n",
        "                    db[:,:,:,c] += dZ[i, h, w, c]\n",
        "                    \n",
        "        # Set the ith training example's dA_prev to the unpaded da_prev_pad (Hint: use X[pad:-pad, pad:-pad, :])\n",
        "        dA_prev[i, :, :, :] = da_prev_pad[pad:-pad, pad:-pad, :]\n",
        "    ### END CODE HERE ###\n",
        "    \n",
        "    # Making sure your output shape is correct\n",
        "    assert(dA_prev.shape == (m, n_H_prev, n_W_prev, n_C_prev))\n",
        "    \n",
        "    return dA_prev, dW, db"
      ],
      "execution_count": 0,
      "outputs": []
    },
    {
      "metadata": {
        "id": "YBY2uOUggu7k",
        "colab_type": "code",
        "outputId": "09b7d27c-7c82-4dec-8893-de5cd850c689",
        "colab": {
          "base_uri": "https://localhost:8080/",
          "height": 102
        }
      },
      "cell_type": "code",
      "source": [
        "np.random.seed(1)\n",
        "dA,dW,db = conv_backward(Z,cache_conv)\n",
        "print(\"dA_mean =\", np.mean(dA))\n",
        "print(\"dW_mean =\", np.mean(dW))\n",
        "print(\"db_mean =\", np.mean(db))\n",
        "\n",
        "print(dA.shape)\n",
        "print(dW.shape)"
      ],
      "execution_count": 0,
      "outputs": [
        {
          "output_type": "stream",
          "text": [
            "dA_mean = 0.6347704472654743\n",
            "dW_mean = 1.5572657428497354\n",
            "db_mean = 7.839232564616838\n",
            "(10, 4, 4, 3)\n",
            "(2, 2, 3, 8)\n"
          ],
          "name": "stdout"
        }
      ]
    },
    {
      "metadata": {
        "id": "fIBMwhbZ1SNM",
        "colab_type": "text"
      },
      "cell_type": "markdown",
      "source": [
        "##Pooling layer backward pass"
      ]
    },
    {
      "metadata": {
        "id": "lzlM3lut1CVb",
        "colab_type": "code",
        "colab": {}
      },
      "cell_type": "code",
      "source": [
        "# max polling\n",
        "def create_mask_from_window(x):\n",
        "    \"\"\"\n",
        "    Creates a mask from an input matrix x, to identify the max entry of x.\n",
        "    \n",
        "    Arguments:\n",
        "    x -- Array of shape (f, f)\n",
        "    \n",
        "    Returns:\n",
        "    mask -- Array of the same shape as window, contains a True at the position corresponding to the max entry of x.\n",
        "    \"\"\"\n",
        "    \n",
        "    ### START CODE HERE ### (≈1 line)\n",
        "    mask = x == np.max(x)\n",
        "    ### END CODE HERE ###\n",
        "    \n",
        "    return mask"
      ],
      "execution_count": 0,
      "outputs": []
    },
    {
      "metadata": {
        "id": "nNNqwQrA30id",
        "colab_type": "code",
        "outputId": "eb45e466-6bf4-4392-ec85-ed0f04ce240b",
        "colab": {
          "base_uri": "https://localhost:8080/",
          "height": 85
        }
      },
      "cell_type": "code",
      "source": [
        "np.random.seed(1)\n",
        "x = np.random.randn(2,3)\n",
        "mask = create_mask_from_window(x)\n",
        "print('x = ', x)\n",
        "print(\"mask = \", mask)"
      ],
      "execution_count": 0,
      "outputs": [
        {
          "output_type": "stream",
          "text": [
            "x =  [[ 1.62434536 -0.61175641 -0.52817175]\n",
            " [-1.07296862  0.86540763 -2.3015387 ]]\n",
            "mask =  [[ True False False]\n",
            " [False False False]]\n"
          ],
          "name": "stdout"
        }
      ]
    },
    {
      "metadata": {
        "id": "n723dHCC33GD",
        "colab_type": "code",
        "colab": {}
      },
      "cell_type": "code",
      "source": [
        "#Average pooling\n",
        "def distribute_value(dz, shape):\n",
        "    \"\"\"\n",
        "    Distributes the input value in the matrix of dimension shape\n",
        "    \n",
        "    Arguments:\n",
        "    dz -- input scalar\n",
        "    shape -- the shape (n_H, n_W) of the output matrix for which we want to distribute the value of dz\n",
        "    \n",
        "    Returns:\n",
        "    a -- Array of size (n_H, n_W) for which we distributed the value of dz\n",
        "    \"\"\"\n",
        "    \n",
        "    ### START CODE HERE ###\n",
        "    # Retrieve dimensions from shape (≈1 line)\n",
        "    (n_H, n_W) = shape\n",
        "    \n",
        "    # Compute the value to distribute on the matrix (≈1 line)\n",
        "    average = dz / (n_H * n_W)\n",
        "    \n",
        "    # Create a matrix where every entry is the \"average\" value (≈1 line)\n",
        "    a = np.ones(shape) * average\n",
        "    ### END CODE HERE ###\n",
        "    \n",
        "    return a"
      ],
      "execution_count": 0,
      "outputs": []
    },
    {
      "metadata": {
        "id": "bCmsNMU94ra8",
        "colab_type": "code",
        "outputId": "fb60bb07-d3fa-4d82-b2cb-862637214749",
        "colab": {
          "base_uri": "https://localhost:8080/",
          "height": 51
        }
      },
      "cell_type": "code",
      "source": [
        "a = distribute_value(2, (2,2))\n",
        "print('distributed value =', a)"
      ],
      "execution_count": 0,
      "outputs": [
        {
          "output_type": "stream",
          "text": [
            "distributed value = [[0.5 0.5]\n",
            " [0.5 0.5]]\n"
          ],
          "name": "stdout"
        }
      ]
    },
    {
      "metadata": {
        "id": "_4hSRtUd4vRJ",
        "colab_type": "code",
        "colab": {}
      },
      "cell_type": "code",
      "source": [
        "## puttiing it together:pooling backward\n",
        "def pool_backward(dA, cache, mode = \"max\"):\n",
        "    \"\"\"\n",
        "    Implements the backward pass of the pooling layer\n",
        "    \n",
        "    Arguments:\n",
        "    dA -- gradient of cost with respect to the output of the pooling layer, same shape as A\n",
        "    cache -- cache output from the forward pass of the pooling layer, contains the layer's input and hparameters \n",
        "    mode -- the pooling mode you would like to use, defined as a string (\"max\" or \"average\")\n",
        "    \n",
        "    Returns:\n",
        "    dA_prev -- gradient of cost with respect to the input of the pooling layer, same shape as A_prev\n",
        "    \"\"\"\n",
        "    \n",
        "    ### START CODE HERE ###\n",
        "    \n",
        "    # Retrieve information from cache (≈1 line)\n",
        "    (A_prev, hparameters) = cache\n",
        "    \n",
        "    # Retrieve hyperparameters from \"hparameters\" (≈2 lines)\n",
        "    stride = hparameters[\"stride\"]\n",
        "    f = hparameters[\"f\"]\n",
        "    \n",
        "    # Retrieve dimensions from A_prev's shape and dA's shape (≈2 lines)\n",
        "    m, n_H_prev, n_W_prev, n_C_prev = A_prev.shape\n",
        "    m, n_H, n_W, n_C = dA.shape\n",
        "    \n",
        "    # Initialize dA_prev with zeros (≈1 line)\n",
        "    dA_prev = np.zeros(A_prev.shape)\n",
        "    \n",
        "    for i in range(m):                       # loop over the training examples\n",
        "        # select training example from A_prev (≈1 line)\n",
        "        a_prev = A_prev[i]\n",
        "        for h in range(n_H):                   # loop on the vertical axis\n",
        "            for w in range(n_W):               # loop on the horizontal axis\n",
        "                for c in range(n_C):           # loop over the channels (depth)\n",
        "                    # Find the corners of the current \"slice\" (≈4 lines)\n",
        "                    vert_start = h\n",
        "                    vert_end = vert_start + f\n",
        "                    horiz_start = w\n",
        "                    horiz_end = horiz_start + f\n",
        "                    \n",
        "                    # Compute the backward propagation in both modes.\n",
        "                    if mode == \"max\":\n",
        "                        # Use the corners and \"c\" to define the current slice from a_prev (≈1 line)\n",
        "                        a_prev_slice = a_prev[vert_start:vert_end, horiz_start:horiz_end, c]\n",
        "                        # Create the mask from a_prev_slice (≈1 line)\n",
        "                        mask = create_mask_from_window(a_prev_slice)\n",
        "                        # Set dA_prev to be dA_prev + (the mask multiplied by the correct entry of dA) (≈1 line)\n",
        "                        dA_prev[i, vert_start:vert_end, horiz_start:horiz_end, c] += np.multiply(mask, dA[i, h, w, c])\n",
        "                        \n",
        "                    elif mode == \"average\":\n",
        "                        # Get the value a from dA (≈1 line)\n",
        "                        da = dA[i, h, w, c]\n",
        "                        print(\"da shape\")\n",
        "                        print(da)\n",
        "                        # Define the shape of the filter as fxf (≈1 line)\n",
        "                        shape = (f, f)\n",
        "                        # Distribute it to get the correct slice of dA_prev. i.e. Add the distributed value of da. (≈1 line)\n",
        "                        dA_prev[i, vert_start:vert_end, horiz_start:horiz_end, c] += distribute_value(da, shape)\n",
        "                        \n",
        "    ### END CODE ###\n",
        "    \n",
        "    # Making sure your output shape is correct\n",
        "    assert(dA_prev.shape == A_prev.shape)\n",
        "    \n",
        "    return dA_prev"
      ],
      "execution_count": 0,
      "outputs": []
    },
    {
      "metadata": {
        "id": "t2ZH4FRI6_9p",
        "colab_type": "code",
        "outputId": "a41e0b64-bc90-4cdd-c07c-e505876b0ff9",
        "colab": {
          "base_uri": "https://localhost:8080/",
          "height": 2907
        }
      },
      "cell_type": "code",
      "source": [
        "np.random.seed(1)\n",
        "A_prev = np.random.randn(5, 5, 3, 2)\n",
        "hparameters = {\"stride\" : 1, \"f\": 2}\n",
        "A, cache = pool_forward(A_prev, hparameters)\n",
        "dA = np.random.randn(5, 4, 2, 2)\n",
        "\n",
        "dA_prev = pool_backward(dA, cache, mode = \"max\")\n",
        "print(\"mode = max\")\n",
        "print('mean of dA = ', np.mean(dA))\n",
        "print('dA_prev[1,1] = ', dA_prev[1,1])  \n",
        "\n",
        "dA_prev = pool_backward(dA, cache, mode = \"average\")\n",
        "print(\"mode = average\")\n",
        "print('mean of dA = ', np.mean(dA))\n",
        "print('dA_prev[1,1] = ', dA_prev[1,1]) "
      ],
      "execution_count": 0,
      "outputs": [
        {
          "output_type": "stream",
          "text": [
            "mode = max\n",
            "mean of dA =  0.14571390272918056\n",
            "dA_prev[1,1] =  [[ 0.          0.        ]\n",
            " [ 5.05844394 -1.68282702]\n",
            " [ 0.          0.        ]]\n",
            "da shape\n",
            "-0.31011677351806\n",
            "da shape\n",
            "-2.434837764107139\n",
            "da shape\n",
            "1.038824601859414\n",
            "da shape\n",
            "2.1869796469742577\n",
            "da shape\n",
            "0.44136444356858207\n",
            "da shape\n",
            "-0.10015523328349978\n",
            "da shape\n",
            "-0.13644474389603303\n",
            "da shape\n",
            "-0.11905418777480989\n",
            "da shape\n",
            "0.0174094083000046\n",
            "da shape\n",
            "-1.1220187287468883\n",
            "da shape\n",
            "-0.5170944579202279\n",
            "da shape\n",
            "-0.997026827650263\n",
            "da shape\n",
            "0.2487991613877705\n",
            "da shape\n",
            "-0.29664115237086275\n",
            "da shape\n",
            "0.4952113239779604\n",
            "da shape\n",
            "-0.17470315974250095\n",
            "da shape\n",
            "0.9863351878212421\n",
            "da shape\n",
            "0.2135339013354418\n",
            "da shape\n",
            "2.1906997289697334\n",
            "da shape\n",
            "-1.8963609228910925\n",
            "da shape\n",
            "-0.646916688254908\n",
            "da shape\n",
            "0.901486891648711\n",
            "da shape\n",
            "2.528325706806398\n",
            "da shape\n",
            "-0.24863477771546005\n",
            "da shape\n",
            "0.043668993178389105\n",
            "da shape\n",
            "-0.22631424251360518\n",
            "da shape\n",
            "1.3314571125875918\n",
            "da shape\n",
            "-0.2873078634760189\n",
            "da shape\n",
            "0.6800698398781045\n",
            "da shape\n",
            "-0.3198015988986712\n",
            "da shape\n",
            "-1.2725587552459943\n",
            "da shape\n",
            "0.31354772046343216\n",
            "da shape\n",
            "0.5031848134353261\n",
            "da shape\n",
            "1.2932258825322618\n",
            "da shape\n",
            "-0.11044702641731631\n",
            "da shape\n",
            "-0.6173620637123609\n",
            "da shape\n",
            "0.5627610966190263\n",
            "da shape\n",
            "0.24073709223773224\n",
            "da shape\n",
            "0.28066507712263905\n",
            "da shape\n",
            "-0.07311270374727777\n",
            "da shape\n",
            "1.1603385699937696\n",
            "da shape\n",
            "0.36949271637572373\n",
            "da shape\n",
            "1.9046587083409812\n",
            "da shape\n",
            "1.1110566985605046\n",
            "da shape\n",
            "0.6590497961002102\n",
            "da shape\n",
            "-1.6274383406162574\n",
            "da shape\n",
            "0.602319280295629\n",
            "da shape\n",
            "0.42028220364705954\n",
            "da shape\n",
            "0.8109516728035557\n",
            "da shape\n",
            "1.0444420947072588\n",
            "da shape\n",
            "-0.40087819178892664\n",
            "da shape\n",
            "0.8240056184504077\n",
            "da shape\n",
            "-0.5623054310190898\n",
            "da shape\n",
            "1.9548780750090344\n",
            "da shape\n",
            "-1.3319516665172482\n",
            "da shape\n",
            "-1.7606885603987834\n",
            "da shape\n",
            "-1.6507212658241002\n",
            "da shape\n",
            "-0.8905555841630485\n",
            "da shape\n",
            "-1.119115398559728\n",
            "da shape\n",
            "1.956078903703642\n",
            "da shape\n",
            "-0.32649949807818424\n",
            "da shape\n",
            "-1.342675789377436\n",
            "da shape\n",
            "1.114382976779792\n",
            "da shape\n",
            "-0.5865239388215925\n",
            "da shape\n",
            "-1.2368533765413974\n",
            "da shape\n",
            "0.8758389276492995\n",
            "da shape\n",
            "0.6233621765780327\n",
            "da shape\n",
            "-0.4349566829552277\n",
            "da shape\n",
            "1.4075400002412286\n",
            "da shape\n",
            "0.12910157971072544\n",
            "da shape\n",
            "1.6169495988573002\n",
            "da shape\n",
            "0.5027408819999043\n",
            "da shape\n",
            "1.5588055406198593\n",
            "da shape\n",
            "0.10940269642542817\n",
            "da shape\n",
            "-1.2197443969790327\n",
            "da shape\n",
            "2.4493686490613973\n",
            "da shape\n",
            "-0.5457741679825677\n",
            "da shape\n",
            "-0.19883786288889674\n",
            "da shape\n",
            "-0.7003985049212547\n",
            "da shape\n",
            "-0.20339444896455844\n",
            "mode = average\n",
            "mean of dA =  0.14571390272918056\n",
            "dA_prev[1,1] =  [[ 0.08485462  0.2787552 ]\n",
            " [ 1.26461098 -0.25749373]\n",
            " [ 1.17975636 -0.53624893]]\n"
          ],
          "name": "stdout"
        }
      ]
    }
  ]
}